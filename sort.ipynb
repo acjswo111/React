{
 "cells": [
  {
   "cell_type": "code",
   "execution_count": 7,
   "id": "451cb386",
   "metadata": {},
   "outputs": [
    {
     "ename": "UnicodeDecodeError",
     "evalue": "'cp949' codec can't decode byte 0xed in position 250: illegal multibyte sequence",
     "output_type": "error",
     "traceback": [
      "\u001b[1;31m---------------------------------------------------------------------------\u001b[0m",
      "\u001b[1;31mUnicodeDecodeError\u001b[0m                        Traceback (most recent call last)",
      "\u001b[1;32m<ipython-input-7-35db61c164f3>\u001b[0m in \u001b[0;36m<module>\u001b[1;34m\u001b[0m\n\u001b[0;32m      2\u001b[0m \u001b[1;33m\u001b[0m\u001b[0m\n\u001b[0;32m      3\u001b[0m \u001b[1;32mfrom\u001b[0m \u001b[0mIPython\u001b[0m\u001b[1;33m.\u001b[0m\u001b[0mdisplay\u001b[0m \u001b[1;32mimport\u001b[0m \u001b[0mHTML\u001b[0m\u001b[1;33m\u001b[0m\u001b[1;33m\u001b[0m\u001b[0m\n\u001b[1;32m----> 4\u001b[1;33m \u001b[0mHTML\u001b[0m\u001b[1;33m(\u001b[0m\u001b[0mopen\u001b[0m\u001b[1;33m(\u001b[0m\u001b[1;34m\"./sort.html\"\u001b[0m\u001b[1;33m)\u001b[0m\u001b[1;33m.\u001b[0m\u001b[0mread\u001b[0m\u001b[1;33m(\u001b[0m\u001b[1;33m)\u001b[0m\u001b[1;33m)\u001b[0m\u001b[1;33m\u001b[0m\u001b[1;33m\u001b[0m\u001b[0m\n\u001b[0m",
      "\u001b[1;31mUnicodeDecodeError\u001b[0m: 'cp949' codec can't decode byte 0xed in position 250: illegal multibyte sequence"
     ]
    }
   ],
   "source": [
    "# sort\n",
    "\n",
    "from IPython.display import HTML\n",
    "HTML(open(\"./sort.html\").read())"
   ]
  },
  {
   "cell_type": "code",
   "execution_count": 8,
   "id": "463308ca",
   "metadata": {},
   "outputs": [
    {
     "ename": "SyntaxError",
     "evalue": "invalid syntax (<ipython-input-8-91b3e1a0015a>, line 1)",
     "output_type": "error",
     "traceback": [
      "\u001b[1;36m  File \u001b[1;32m\"<ipython-input-8-91b3e1a0015a>\"\u001b[1;36m, line \u001b[1;32m1\u001b[0m\n\u001b[1;33m    const arr = [5, 100, 20];\u001b[0m\n\u001b[1;37m          ^\u001b[0m\n\u001b[1;31mSyntaxError\u001b[0m\u001b[1;31m:\u001b[0m invalid syntax\n"
     ]
    }
   ],
   "source": [
    "\n",
    "# 오름차순 정렬\n",
    "const arr = [5, 100, 20];\n",
    "console.log(arr); // [5, 100, 20]\n",
    "\n",
    "arr.sort((a, b) => a - b);\n",
    "console.log(arr); // [5, 20, 100]\n",
    "\n",
    "# 내림차순 정렬\n",
    "const arr = [5, 100, 20];\n",
    "console.log(arr); // [5, 100, 20]\n",
    "\n",
    "arr.sort((a, b) => b - a);\n",
    "console.log(arr); // [100, 20, 5]"
   ]
  },
  {
   "cell_type": "code",
   "execution_count": null,
   "id": "3334d16b",
   "metadata": {},
   "outputs": [],
   "source": []
  }
 ],
 "metadata": {
  "kernelspec": {
   "display_name": "Python 3",
   "language": "python",
   "name": "python3"
  },
  "language_info": {
   "codemirror_mode": {
    "name": "ipython",
    "version": 3
   },
   "file_extension": ".py",
   "mimetype": "text/x-python",
   "name": "python",
   "nbconvert_exporter": "python",
   "pygments_lexer": "ipython3",
   "version": "3.9.5"
  }
 },
 "nbformat": 4,
 "nbformat_minor": 5
}
