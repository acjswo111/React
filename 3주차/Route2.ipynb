{
 "cells": [
  {
   "cell_type": "code",
   "execution_count": 3,
   "id": "fa73c866",
   "metadata": {},
   "outputs": [],
   "source": [
    "# 라우트 꼼꼼히"
   ]
  },
  {
   "cell_type": "code",
   "execution_count": 4,
   "id": "356aafc4",
   "metadata": {},
   "outputs": [],
   "source": [
    "# 잘못된 주소처리하기"
   ]
  },
  {
   "cell_type": "code",
   "execution_count": 5,
   "id": "493f882a",
   "metadata": {},
   "outputs": [
    {
     "ename": "SyntaxError",
     "evalue": "invalid syntax (<ipython-input-5-4aa93d0e6f8e>, line 8)",
     "output_type": "error",
     "traceback": [
      "\u001b[1;36m  File \u001b[1;32m\"<ipython-input-5-4aa93d0e6f8e>\"\u001b[1;36m, line \u001b[1;32m8\u001b[0m\n\u001b[1;33m    import { Route, Switch } from \"react-router-dom\";\u001b[0m\n\u001b[1;37m           ^\u001b[0m\n\u001b[1;31mSyntaxError\u001b[0m\u001b[1;31m:\u001b[0m invalid syntax\n"
     ]
    }
   ],
   "source": [
    "# Switch 사용하기\n",
    "# App.js\n",
    "\n",
    "# Switch를 import 해주고 Switch로 route를 감싼다\n",
    "# Route에 path를 지정해주지않고 component를 지정하면\n",
    "# 주소를 잘못쳣을때 저 path가 없는 페이지로 띄워지게된다.\n",
    "\n",
    "import { Route, Switch } from \"react-router-dom\";\n",
    "import Notfound from \"./Notfound\";\n",
    "\n",
    "render() {\n",
    "    return (\n",
    "      <div className=\"App\">\n",
    "        <Container>\n",
    "          <Title>내 버킷리스트</Title>\n",
    "          <Line />\n",
    "          <Switch>\n",
    "          <Route path=\"/\" exact //중복해제\n",
    "            render={(props) => \n",
    "            <BucketList list={this.state.list} history={this.props.history}/>}\n",
    "          />\n",
    "          <Route path=\"/detail\" component={Detail}/>\n",
    "          <Route component={Notfound}></Route>\n",
    "          </Switch>\n",
    "        </Container>\n",
    "        <Input>\n",
    "          <input type=\"text\" ref={this.text} />\n",
    "          <button onClick={this.addBucketList}>추가하기</button>\n",
    "        </Input>\n",
    "      </div>\n",
    "    );\n",
    "  }"
   ]
  },
  {
   "cell_type": "code",
   "execution_count": 6,
   "id": "44c759fc",
   "metadata": {},
   "outputs": [
    {
     "ename": "SyntaxError",
     "evalue": "invalid syntax (<ipython-input-6-32fb7302260d>, line 5)",
     "output_type": "error",
     "traceback": [
      "\u001b[1;36m  File \u001b[1;32m\"<ipython-input-6-32fb7302260d>\"\u001b[1;36m, line \u001b[1;32m5\u001b[0m\n\u001b[1;33m    <Route component={Notfound}></Route>  #이미 넘겨져있다.\u001b[0m\n\u001b[1;37m    ^\u001b[0m\n\u001b[1;31mSyntaxError\u001b[0m\u001b[1;31m:\u001b[0m invalid syntax\n"
     ]
    }
   ],
   "source": [
    "# Route로 넘겨진 컴포넌트들은\n",
    "# history,match,location객체가 우리가 직접 넘겨주지않아도 자동으로 넘겨져있다.\n",
    "\n",
    "\n",
    "<Route component={Notfound}></Route>  #이미 넘겨져있다.\n",
    "\n",
    "# render를 활용하여 history객체를 넘겨보자.\n",
    "<Route render={()=>(<Notfound history={this.props.history}></Notfound>)}></Route>"
   ]
  },
  {
   "cell_type": "code",
   "execution_count": 7,
   "id": "aa35d35f",
   "metadata": {},
   "outputs": [],
   "source": [
    "# 뒤로가기 버튼과 메인페이지버튼"
   ]
  },
  {
   "cell_type": "code",
   "execution_count": null,
   "id": "56fcb25a",
   "metadata": {},
   "outputs": [],
   "source": [
    "import React from 'react';\n",
    "import {Link} from \"react-router-dom\";\n",
    "const Notfound = (props) =>{\n",
    "  const Back = () =>{\n",
    "    props.history.goBack();\n",
    "    }\n",
    "  return (\n",
    "    \n",
    "    <div>\n",
    "      <h1>잘못된주소입니다.</h1>\n",
    "      <button onClick={Back}>뒤로가기</button>\n",
    "      <Link to=\"/\"><button>메인페이지</button></Link>\n",
    "    </div>\n",
    "  )\n",
    "}\n",
    "export default Notfound;"
   ]
  }
 ],
 "metadata": {
  "kernelspec": {
   "display_name": "Python 3",
   "language": "python",
   "name": "python3"
  },
  "language_info": {
   "codemirror_mode": {
    "name": "ipython",
    "version": 3
   },
   "file_extension": ".py",
   "mimetype": "text/x-python",
   "name": "python",
   "nbconvert_exporter": "python",
   "pygments_lexer": "ipython3",
   "version": "3.9.5"
  }
 },
 "nbformat": 4,
 "nbformat_minor": 5
}
