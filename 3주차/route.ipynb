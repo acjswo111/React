{
 "cells": [
  {
   "cell_type": "code",
   "execution_count": 2,
   "id": "b4b1c0d9",
   "metadata": {},
   "outputs": [
    {
     "ename": "SyntaxError",
     "evalue": "invalid syntax (<ipython-input-2-bbed146cfb37>, line 1)",
     "output_type": "error",
     "traceback": [
      "\u001b[1;36m  File \u001b[1;32m\"<ipython-input-2-bbed146cfb37>\"\u001b[1;36m, line \u001b[1;32m1\u001b[0m\n\u001b[1;33m    //SPA방식 = html이 1개뿐인 어플리케이션을 의미\u001b[0m\n\u001b[1;37m    ^\u001b[0m\n\u001b[1;31mSyntaxError\u001b[0m\u001b[1;31m:\u001b[0m invalid syntax\n"
     ]
    }
   ],
   "source": [
    "//SPA방식 = html이 1개뿐인 어플리케이션을 의미\n",
    "//라우팅 = 페이지의 이동(페이지 전환)"
   ]
  },
  {
   "cell_type": "code",
   "execution_count": 3,
   "id": "f93b5c0a",
   "metadata": {},
   "outputs": [
    {
     "ename": "SyntaxError",
     "evalue": "invalid syntax (<ipython-input-3-10867ad5a744>, line 1)",
     "output_type": "error",
     "traceback": [
      "\u001b[1;36m  File \u001b[1;32m\"<ipython-input-3-10867ad5a744>\"\u001b[1;36m, line \u001b[1;32m1\u001b[0m\n\u001b[1;33m    라우팅을 직접 구현하기는 매우 힘드므로\u001b[0m\n\u001b[1;37m         ^\u001b[0m\n\u001b[1;31mSyntaxError\u001b[0m\u001b[1;31m:\u001b[0m invalid syntax\n"
     ]
    }
   ],
   "source": [
    "라우팅을 직접 구현하기는 매우 힘드므로 \n",
    "https://reactrouter.com/web을 통해\n",
    "라우팅 라이브러리 패키지들을 찾아 쓴다.\n",
    "\n",
    "우리가 쓸것. (설치)\n",
    "yarn add  react-router-dom"
   ]
  },
  {
   "cell_type": "code",
   "execution_count": 4,
   "id": "f15ca38c",
   "metadata": {},
   "outputs": [
    {
     "ename": "SyntaxError",
     "evalue": "invalid syntax (<ipython-input-4-85f586006626>, line 1)",
     "output_type": "error",
     "traceback": [
      "\u001b[1;36m  File \u001b[1;32m\"<ipython-input-4-85f586006626>\"\u001b[1;36m, line \u001b[1;32m1\u001b[0m\n\u001b[1;33m    라우팅 적용법\u001b[0m\n\u001b[1;37m        ^\u001b[0m\n\u001b[1;31mSyntaxError\u001b[0m\u001b[1;31m:\u001b[0m invalid syntax\n"
     ]
    }
   ],
   "source": [
    "라우팅 적용법\n",
    "1 : index.js에서 import 해주고\n",
    "import {BrowserRouter as Router,Switch,Route,Link} from \"react-router-dom\";\n",
    "BrowserRouter로 App을 감싼다.\n",
    "\n",
    "export default withRouter(App);\n",
    "이런식으로 App도 감싸야한다. withRouter를 쓸경우에\n",
    "import {BrowserRouter} from \"react-router-dom\"\n",
    "ReactDOM.render(\n",
    "<BrowserRouter>\n",
    "    <App />\n",
    "  </BrowserRouter>,\n",
    "  document.getElementById('root')\n",
    ");"
   ]
  },
  {
   "cell_type": "code",
   "execution_count": 5,
   "id": "56831251",
   "metadata": {},
   "outputs": [
    {
     "ename": "SyntaxError",
     "evalue": "invalid syntax (<ipython-input-5-51c74801d566>, line 1)",
     "output_type": "error",
     "traceback": [
      "\u001b[1;36m  File \u001b[1;32m\"<ipython-input-5-51c74801d566>\"\u001b[1;36m, line \u001b[1;32m1\u001b[0m\n\u001b[1;33m    Route 적용방법 2가지\u001b[0m\n\u001b[1;37m          ^\u001b[0m\n\u001b[1;31mSyntaxError\u001b[0m\u001b[1;31m:\u001b[0m invalid syntax\n"
     ]
    }
   ],
   "source": [
    "Route 적용방법 2가지\n",
    "1: 넘겨줄 props가 없을 때\n",
    "<Route path=\"주소[/home 처럼 /와 주소를 적어요]\" component={[보여줄 컴포넌트]}/>\n",
    "   넘겨줄 props가 존재할 때\n",
    "<Route path=\"주소[/home 처럼 /와 주소를 적어요]\" render={(props) => (<BucketList list={this.state.list} />)} />\n",
    "\n",
    "중복주소 처리방법 : exact속성을 삽입 (main화면에만해줘도 무방)\n",
    "    <Route path=\"/\" exact component={Home}></Route>\n",
    "    <Route path=\"/cat\" component={Cat}/>\n",
    "    <Route path=\"/dog\" component={Dog}></Route>\n",
    "    <Route path=\"/paramiter/:cat_name\" component={Para}></Route>"
   ]
  },
  {
   "cell_type": "code",
   "execution_count": 6,
   "id": "0d776d65",
   "metadata": {},
   "outputs": [
    {
     "ename": "SyntaxError",
     "evalue": "invalid syntax (<ipython-input-6-2ee3add8b4ad>, line 1)",
     "output_type": "error",
     "traceback": [
      "\u001b[1;36m  File \u001b[1;32m\"<ipython-input-6-2ee3add8b4ad>\"\u001b[1;36m, line \u001b[1;32m1\u001b[0m\n\u001b[1;33m    URL 파라미터,쿼리 값 넘기기\u001b[0m\n\u001b[1;37m        ^\u001b[0m\n\u001b[1;31mSyntaxError\u001b[0m\u001b[1;31m:\u001b[0m invalid syntax\n"
     ]
    }
   ],
   "source": [
    "URL 파라미터,쿼리 값 넘기기\n",
    "파라미터 : /cat/nabi\n",
    "    <Route path=\"/paramiter/:cat_name\" component={Para}></Route>\n",
    "\n",
    "    app.js\n",
    "    <Route path=\"/paramiter/:cat_name\" component={Para}></Route>\n",
    "    // 주소에 대한 넘겨줄 파라미터이름을 지정해주고 Para라는 컴포넌트로 넘겨줌\n",
    "    \n",
    "    paramiter.js\n",
    "    import React from 'react';\n",
    "\n",
    "\n",
    "    const Para = (props) =>{\n",
    "      console.log(props.match);\n",
    "      return(\n",
    "        <div>Url 파라미터넘기기\n",
    "          <div>내 동물의 이름은 {props.match.params.cat_name}에요.</div>\n",
    "          // 받은 값은 props로 받음 cat_name이라는 쿼리값으로 받음\n",
    "        </div>\n",
    "      )\n",
    "    }\n",
    "    export default Para;"
   ]
  },
  {
   "cell_type": "code",
   "execution_count": 8,
   "id": "b6ea157d",
   "metadata": {},
   "outputs": [
    {
     "ename": "IndentationError",
     "evalue": "unindent does not match any outer indentation level (<tokenize>, line 28)",
     "output_type": "error",
     "traceback": [
      "\u001b[1;36m  File \u001b[1;32m\"<tokenize>\"\u001b[1;36m, line \u001b[1;32m28\u001b[0m\n\u001b[1;33m    </nav>\u001b[0m\n\u001b[1;37m    ^\u001b[0m\n\u001b[1;31mIndentationError\u001b[0m\u001b[1;31m:\u001b[0m unindent does not match any outer indentation level\n"
     ]
    }
   ],
   "source": [
    "Link 사용하기\n",
    "ink는 어떠한 text나 img등 클릭을 통해 그 페이지로 들어가게된다.\n",
    "클릭을 이용하지않고 함수로 들어가는방법\n",
    "history사용해보기\n",
    "1. 먼저 withRouter를 import해준다.\n",
    "2. 그런다음 export에 withRouter(App) 처럼 감싸준다.\n",
    "3. 콘솔을찍어본다 . console.log(this.props);\n",
    "\n",
    "app.js\n",
    "\n",
    " onpush =()=>{ //들어가기\n",
    "    this.props.history.push(\"/cat/nabi\");\n",
    "  }\n",
    "  back = () =>{ //뒤로가기버튼 history자체 지원?\n",
    "    this.props.history.goBack();\n",
    "  }\n",
    "\n",
    "<nav>\n",
    "            <ul>\n",
    "              <li><Link to=\"/\">메인화면가기</Link></li>\n",
    "              <li><Link to=\"/cat\">고양이화면</Link></li>\n",
    "              <li><Link to=\"/dog\">강아지화면</Link></li>\n",
    "              <li><Link to=\"/paramiter/나비\">Url넘기기화면</Link></li>\n",
    "\n",
    "              <button onClick={this.onpush}>고양이화면들어가기</button>\n",
    "              <button onClick={this.back}>뒤로가기</button>\n",
    "            </ul>\n",
    "          </nav>"
   ]
  },
  {
   "cell_type": "code",
   "execution_count": 10,
   "id": "b23f17e0",
   "metadata": {},
   "outputs": [],
   "source": [
    "# 버킷리스트에 list항목을 클릭하면 Detail.js페이지로 넘어가기"
   ]
  },
  {
   "cell_type": "code",
   "execution_count": null,
   "id": "c52c1b40",
   "metadata": {},
   "outputs": [],
   "source": [
    "Route에서 path지정은 내가 원하는 주솟값을 넣는것이다.\n",
    "app.js\n",
    "<Route path=\"/main\" exact //중복해제\n",
    "            render={(props) => <BucketList list={this.state.list} history={this.props.history}/>}\n",
    "          />\n",
    "          <Route path=\"/detail\" component={Detail}/>\n",
    "    Bucketlist로 history를 넘겨주어 history 속성을 쓸수잇게 만든다.\n",
    "    \n",
    "BucketList.js\n",
    "\n",
    "const BucketList = (props) => {\n",
    "  console.log(props);\n",
    "  const my_lists = props.list;\n",
    "  \n",
    "  return (\n",
    "    <ListStyle>\n",
    "      {my_lists.map((list, index) => {\n",
    "        return (\n",
    "          <ItemStyle className=\"list_item\" key={index} onClick={() => {\n",
    "     >>>     props.history.push('/detail');\n",
    "    list를 클릭했을시 detail로 push시킨다. \n",
    "          }}>\n",
    "            {list}\n",
    "          </ItemStyle>\n",
    "        );\n",
    "      })}\n",
    "    </ListStyle>\n",
    "  );\n",
    "};"
   ]
  }
 ],
 "metadata": {
  "kernelspec": {
   "display_name": "Python 3",
   "language": "python",
   "name": "python3"
  },
  "language_info": {
   "codemirror_mode": {
    "name": "ipython",
    "version": 3
   },
   "file_extension": ".py",
   "mimetype": "text/x-python",
   "name": "python",
   "nbconvert_exporter": "python",
   "pygments_lexer": "ipython3",
   "version": "3.9.5"
  }
 },
 "nbformat": 4,
 "nbformat_minor": 5
}
