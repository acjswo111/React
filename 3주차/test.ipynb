{
 "cells": [
  {
   "cell_type": "code",
   "execution_count": 1,
   "id": "65656d4a",
   "metadata": {},
   "outputs": [
    {
     "ename": "SyntaxError",
     "evalue": "invalid syntax (<ipython-input-1-d78c85c57d19>, line 1)",
     "output_type": "error",
     "traceback": [
      "\u001b[1;36m  File \u001b[1;32m\"<ipython-input-1-d78c85c57d19>\"\u001b[1;36m, line \u001b[1;32m1\u001b[0m\n\u001b[1;33m    import React from 'react';\u001b[0m\n\u001b[1;37m                 ^\u001b[0m\n\u001b[1;31mSyntaxError\u001b[0m\u001b[1;31m:\u001b[0m invalid syntax\n"
     ]
    }
   ],
   "source": [
    "import React from 'react';\n",
    "import styled from \"styled-components\";\n",
    "import {BrowserRouter as Router,Switch,Route,Link,withRouter} from \"react-router-dom\";\n",
    "import \"./App.css\"\n",
    "import Book from './bookpage';\n",
    "const Container = styled.div`\n",
    "  width: 30vw;\n",
    "  height: 30vw;\n",
    "  margin: 20px auto;\n",
    "  border: 2px dotted black;\n",
    "  text-align: center;\n",
    "`;\n",
    "const H1 = styled.h1`\n",
    "  color: blue;\n",
    "`;\n",
    "const List = styled.div`\n",
    "  font-size: 20px;\n",
    "  font-weight: bold;\n",
    "  word-break:break-all;\n",
    "  margin-bottom: 10px;\n",
    "`;\n",
    "// 클래스형 컴포넌트는 이렇게 생겼습니다!\n",
    "class Bukitlist extends React.Component {\n",
    "  constructor(props) {\n",
    "    super(props);\n",
    "    this.state = {\n",
    "      lists:[\"영화관 가기\",\"매일 책읽기\",\"수영 배우기\"],\n",
    "    };\n",
    "    this.text = React.createRef();\n",
    "  }\n",
    "  componentDidMount(){\n",
    "    console.log(this.text.current.value);\n",
    "  }\n",
    "  addlist = () =>{\n",
    "    let list = this.state.lists;\n",
    "    const new_item = this.text.current.value;\n",
    "    this.setState({lists: [...list, new_item]});\n",
    "  }\n",
    "  removelist = () =>{\n",
    "    const relist = this.state.lists;\n",
    "    const new_lists = [...relist];\n",
    "    new_lists.pop();\n",
    "    this.setState({lists:new_lists})\n",
    "  }\n",
    "  // 랜더 함수 안에 리액트 엘리먼트를 넣어줍니다!\n",
    "  render() {\n",
    "    return (\n",
    "      <div className=\"App\">\n",
    "        <Container>\n",
    "        <H1>함수 버킷리스트</H1>\n",
    "        <hr />\n",
    "        {this.state.lists.map((list,index)=>{\n",
    "          return (\n",
    "            <List key={index}>{list}</List>\n",
    "          )\n",
    "        })}\n",
    "        <input type=\"text\" placeholder=\"텍스트 넣기\" ref={this.text}></input>\n",
    "        <button onClick={this.addlist}>추가하기</button>\n",
    "        <button onClick={this.removelist}>삭제하기</button>\n",
    "        </Container>\n",
    "        <Route path=\"./bookpage\" component={Book}></Route>\n",
    "      </div>\n",
    "    );\n",
    "  }\n",
    "}\n",
    "export default withRouter(Bukitlist);"
   ]
  },
  {
   "cell_type": "code",
   "execution_count": null,
   "id": "cfe37981",
   "metadata": {},
   "outputs": [],
   "source": []
  }
 ],
 "metadata": {
  "kernelspec": {
   "display_name": "Python 3",
   "language": "python",
   "name": "python3"
  },
  "language_info": {
   "codemirror_mode": {
    "name": "ipython",
    "version": 3
   },
   "file_extension": ".py",
   "mimetype": "text/x-python",
   "name": "python",
   "nbconvert_exporter": "python",
   "pygments_lexer": "ipython3",
   "version": "3.9.5"
  }
 },
 "nbformat": 4,
 "nbformat_minor": 5
}
